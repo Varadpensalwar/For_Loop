{
 "cells": [
  {
   "cell_type": "code",
   "execution_count": 1,
   "id": "45ad74a0-7828-48aa-951e-395cf5ddb96c",
   "metadata": {},
   "outputs": [
    {
     "name": "stdout",
     "output_type": "stream",
     "text": [
      "output of for loop:\n",
      "varad\n",
      "SGU\n",
      "Google\n",
      "output of while loop: 5\n"
     ]
    }
   ],
   "source": [
    "#Q1. Explain with an example each when to use a for loop and a while loop.\n",
    "\"\"\"\n",
    "For Loop:\n",
    "it is used when we have repeatative task.\n",
    "For Loop is used when we have specific limit in a loop\n",
    "\"\"\"\n",
    "a=[\"varad\",\"SGU\",\"Google\"]\n",
    "print(\"output of for loop:\")\n",
    "for i in range(0,len(a)):\n",
    "    print(a[i])\n",
    "\"\"\"\n",
    "While Loop:\n",
    "it is used when we have repeatative task.\n",
    "While Loop is used when we have not specific limit in a loop.\n",
    "\"\"\"\n",
    "#for example\n",
    "a=5\n",
    "b=1\n",
    "while b<a:\n",
    "    b=b+1\n",
    "print(\"output of while loop:\",a)"
   ]
  },
  {
   "cell_type": "code",
   "execution_count": 2,
   "id": "ec6c8d46-c8d7-4217-a308-be4e040b61d1",
   "metadata": {},
   "outputs": [
    {
     "name": "stdout",
     "output_type": "stream",
     "text": [
      "sum offirst 10 natural numbers using for loop 55\n",
      "product offirst 10 natural numbers using for loop 3628800\n",
      "sum offirst 10 natural numbers using while loop 55\n",
      "product offirst 10 natural numbers using while loop 3628800\n"
     ]
    }
   ],
   "source": [
    "#Using For Loop\n",
    "summation=0\n",
    "for i in range(1,11):\n",
    "    summation=summation+i\n",
    "print(\"sum offirst 10 natural numbers using for loop\",summation) \n",
    "\n",
    "product=1\n",
    "for i in range(1,11):\n",
    "    product=product*i\n",
    "print(\"product offirst 10 natural numbers using for loop\",product)\n",
    "\n",
    "#Using While Loop\n",
    "a=0\n",
    "b=1\n",
    "while b<=10:\n",
    "    a=a+b\n",
    "    b=b+1\n",
    "print(\"sum offirst 10 natural numbers using while loop\",a)\n",
    "\n",
    "x=1\n",
    "y=1\n",
    "while y<=10:\n",
    "    x=x*y\n",
    "    y=y+1\n",
    "print(\"product offirst 10 natural numbers using while loop\",x)"
   ]
  },
  {
   "cell_type": "code",
   "execution_count": 4,
   "id": "ec1c1a10-2ca6-4fe8-ab2d-96f4694c8ce1",
   "metadata": {},
   "outputs": [
    {
     "name": "stdin",
     "output_type": "stream",
     "text": [
      "Enter your units of electricity: 310\n"
     ]
    },
    {
     "name": "stdout",
     "output_type": "stream",
     "text": [
      "your electricity bill is: 2250.0\n"
     ]
    }
   ],
   "source": [
    "unit_of_electricity_bill = float(input(\"Enter your units of electricity:\"))\n",
    "if unit_of_electricity_bill <= 100 and unit_of_electricity_bill>=0:\n",
    "    print(\"your electricity bill is:\", unit_of_electricity_bill*4.5)\n",
    "elif unit_of_electricity_bill >100 and unit_of_electricity_bill<=200:\n",
    "    print(\"your electricity bill is:\", (100*4.5) + ((unit_of_electricity_bill-100)*6))\n",
    "elif unit_of_electricity_bill >200 and unit_of_electricity_bill<=300:\n",
    "    print(\"your electricity bill is:\", (100*4.5)+(100*6)+((unit_of_electricity_bill-200)*10))\n",
    "elif unit_of_electricity_bill>300:\n",
    "    print(\"your electricity bill is:\",(100*4.5)+(100*6)+(100*10)+((unit_of_electricity_bill-300)*20))\n",
    "else:\n",
    "    print(\"units of electicity bill can't be negative\")"
   ]
  },
  {
   "cell_type": "code",
   "execution_count": 5,
   "id": "8c3b0de1-484e-4fcd-8bac-0df9b4e5713f",
   "metadata": {},
   "outputs": [
    {
     "name": "stdout",
     "output_type": "stream",
     "text": [
      "[2, 4, 5, 6, 8, 10, 12, 14, 15, 16, 18, 20, 22, 24, 25, 26, 28, 30, 32, 34, 35, 36, 38, 40, 42, 44, 45, 46, 48, 50, 52, 54, 55, 56, 58, 60, 62, 64, 65, 66, 68, 70, 72, 74, 75, 76, 78, 80, 82, 84, 85, 86, 88, 90, 92, 94, 95, 96, 98, 100]\n"
     ]
    }
   ],
   "source": [
    "#using for loop\n",
    "a=[]\n",
    "for i in range(1,101):\n",
    "    if (i**3)%4==0 or (i**3)%5==0:\n",
    "        a.append(i)\n",
    "print(a)"
   ]
  },
  {
   "cell_type": "code",
   "execution_count": 6,
   "id": "ad338c35-12de-4b26-a83e-45f2edadd68e",
   "metadata": {},
   "outputs": [
    {
     "name": "stdout",
     "output_type": "stream",
     "text": [
      "[2, 4, 5, 6, 8, 10, 12, 14, 15, 16, 18, 20, 22, 24, 25, 26, 28, 30, 32, 34, 35, 36, 38, 40, 42, 44, 45, 46, 48, 50, 52, 54, 55, 56, 58, 60, 62, 64, 65, 66, 68, 70, 72, 74, 75, 76, 78, 80, 82, 84, 85, 86, 88, 90, 92, 94, 95, 96, 98, 100]\n"
     ]
    }
   ],
   "source": [
    "#using while loop\n",
    "b=[]\n",
    "val=1\n",
    "while val<=100:\n",
    "    if (val**3)%4==0 or (val**3)%5==0:\n",
    "        b.append(val)\n",
    "    val = val+1\n",
    "print(b)"
   ]
  },
  {
   "cell_type": "code",
   "execution_count": 7,
   "id": "7348568b-10dc-45cf-af4b-d89f573ecdd5",
   "metadata": {},
   "outputs": [
    {
     "name": "stdout",
     "output_type": "stream",
     "text": [
      "number of times vowels comes: 12\n",
      "list of all vowels comes in the statement: ['I', 'a', 'o', 'e', 'o', 'e', 'a', 'a', 'a', 'i', 'e', 'i']\n"
     ]
    }
   ],
   "source": [
    "string = \"I want to become a data scientist\"\n",
    "a=0\n",
    "b=[]\n",
    "for i in string:\n",
    "    if i==\"A\" or i==\"a\" or i==\"E\" or i==\"e\" or i==\"I\" or i==\"i\" or i==\"o\" or i==\"O\" or i==\"u\" or i==\"U\":\n",
    "        a=a+1\n",
    "        b.append(i)\n",
    "print(\"number of times vowels comes:\", a)\n",
    "print(\"list of all vowels comes in the statement:\",b)"
   ]
  }
 ],
 "metadata": {
  "kernelspec": {
   "display_name": "Python 3 (ipykernel)",
   "language": "python",
   "name": "python3"
  },
  "language_info": {
   "codemirror_mode": {
    "name": "ipython",
    "version": 3
   },
   "file_extension": ".py",
   "mimetype": "text/x-python",
   "name": "python",
   "nbconvert_exporter": "python",
   "pygments_lexer": "ipython3",
   "version": "3.10.8"
  }
 },
 "nbformat": 4,
 "nbformat_minor": 5
}
